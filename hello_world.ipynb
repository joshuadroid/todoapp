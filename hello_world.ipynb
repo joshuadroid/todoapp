{
 "cells": [
  {
   "cell_type": "code",
   "execution_count": 5,
   "metadata": {},
   "outputs": [
    {
     "name": "stdout",
     "output_type": "stream",
     "text": [
      "100\n",
      "100.0\n",
      "100\n",
      "100\n",
      "100.0\n"
     ]
    }
   ],
   "source": [
    "# write 4 expressions with different arithmetic operators that equal 100. \n",
    "# Challenge, see if you can use all of the operators in one expression: +, -, *, /, %, **\n",
    "print(50+50)\n",
    "print(100/1)\n",
    "print(25*4)\n",
    "print(125-25)\n",
    "print(99 + 1 - 1 * 1 / 1 % 1 ** 1)"
   ]
  },
  {
   "cell_type": "code",
   "execution_count": null,
   "metadata": {},
   "outputs": [
    {
     "name": "stdout",
     "output_type": "stream",
     "text": [
      "8\n",
      "r\n"
     ]
    }
   ],
   "source": [
    "## write a string index that returns the letter \"r\" from \"Hello World\"\n",
    "x = \"Hello World\"\n",
    "print(x.find(\"r\"))\n",
    "print(x[8])"
   ]
  },
  {
   "cell_type": "code",
   "execution_count": 6,
   "metadata": {},
   "outputs": [
    {
     "name": "stdout",
     "output_type": "stream",
     "text": [
      "ink\n"
     ]
    }
   ],
   "source": [
    "# Use string slicing to grab the word 'ink'  from inside 'tinker'\n",
    "x = \"tinker\"\n",
    "print(x[1:4])"
   ]
  },
  {
   "cell_type": "code",
   "execution_count": 12,
   "metadata": {},
   "outputs": [
    {
     "name": "stdout",
     "output_type": "stream",
     "text": [
      "<class 'str'>\n",
      "<class 'int'>\n",
      "<class 'float'>\n"
     ]
    }
   ],
   "source": [
    "# Create a list that contains at least one string, one integer and one float.\n",
    "myList = ['mustaaaaaaard', 3, 1.00]\n",
    "print(type(myList[0]))\n",
    "print(type(myList[1]))\n",
    "print(type(myList[2]))"
   ]
  },
  {
   "cell_type": "code",
   "execution_count": null,
   "metadata": {},
   "outputs": [
    {
     "name": "stdout",
     "output_type": "stream",
     "text": [
      "[]\n",
      "['M', 'i', 's', 's', 'i', 's', 's', 'i', 'p', 'p', 'i']\n",
      "{'M', 'p', 's', 'i'}\n"
     ]
    }
   ],
   "source": [
    "# Write an expression that would turn the string 'Mississippi' into a set of unique letters.\n",
    "\n",
    "# Declaring Variables\n",
    "x = 'Mississippi'\n",
    "y = []\n",
    "print(y)\n",
    "\n",
    "# For Loop to add each index into a list\n",
    "for z in range(len(x)):\n",
    "    y.append(x[z])\n",
    "    if y == 8:\n",
    "        print(\"ye\")\n",
    "    \n",
    "print(y)\n",
    "\n",
    "# Turn list into a set\n",
    "a = set(y)\n",
    "print(a)"
   ]
  },
  {
   "cell_type": "code",
   "execution_count": 1,
   "metadata": {},
   "outputs": [
    {
     "name": "stdout",
     "output_type": "stream",
     "text": [
      "{'p', 'i', 's', 'M'}\n"
     ]
    }
   ],
   "source": [
    "x = set('Mississippi')\n",
    "print(x)"
   ]
  },
  {
   "cell_type": "code",
   "execution_count": 37,
   "metadata": {},
   "outputs": [
    {
     "name": "stdout",
     "output_type": "stream",
     "text": [
      "40\n",
      "4\n",
      "Kendrick Lamar\n"
     ]
    }
   ],
   "source": [
    "# Create a list of students with properties for their first name, last name, and age (use a dictionary). \n",
    "# Change the age of the 2nd student in the list. Print the name of the 3rd student in the list\n",
    "\n",
    "students = [\n",
    "    {\n",
    "        \"fname\": \"Josh\",\n",
    "        \"lname\": \"Bozo\",\n",
    "        \"age\": 69\n",
    "    },\n",
    "    {\n",
    "        \"fname\": \"Dak\",\n",
    "        \"lname\": \"Disabled\",\n",
    "        \"age\": 40\n",
    "    },\n",
    "    {\n",
    "        \"fname\": \"Kendrick\",\n",
    "        \"lname\": \"Lamar\",\n",
    "        \"age\": \"Mustard\"\n",
    "    }\n",
    "]\n",
    "print(students[1]['age'])\n",
    "students[1]['age'] = 4\n",
    "print(students[1]['age'])\n",
    "print(students[2]['fname'] + \" \" + students[2]['lname'])\n"
   ]
  },
  {
   "cell_type": "code",
   "execution_count": null,
   "metadata": {},
   "outputs": [],
   "source": []
  }
 ],
 "metadata": {
  "kernelspec": {
   "display_name": "Python 3",
   "language": "python",
   "name": "python3"
  },
  "language_info": {
   "codemirror_mode": {
    "name": "ipython",
    "version": 3
   },
   "file_extension": ".py",
   "mimetype": "text/x-python",
   "name": "python",
   "nbconvert_exporter": "python",
   "pygments_lexer": "ipython3",
   "version": "3.13.2"
  }
 },
 "nbformat": 4,
 "nbformat_minor": 2
}
